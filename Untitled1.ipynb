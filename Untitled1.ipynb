{
 "cells": [
  {
   "cell_type": "code",
   "execution_count": 1,
   "metadata": {},
   "outputs": [
    {
     "ename": "SyntaxError",
     "evalue": "invalid syntax (<ipython-input-1-80e2dfeb9104>, line 15)",
     "output_type": "error",
     "traceback": [
      "\u001b[0;36m  File \u001b[0;32m\"<ipython-input-1-80e2dfeb9104>\"\u001b[0;36m, line \u001b[0;32m15\u001b[0m\n\u001b[0;31m    print ', '.join(line)\u001b[0m\n\u001b[0m             ^\u001b[0m\n\u001b[0;31mSyntaxError\u001b[0m\u001b[0;31m:\u001b[0m invalid syntax\n"
     ]
    }
   ],
   "source": [
    "# read in csv data\n",
    "MGO_Maine = np.genfromtxt('MGO_Maine.csv', skip_header=1, delimiter=',')\n",
    "print(MGO_Maine)\n",
    "\n",
    "# Now the list form\n",
    "MGO_Maine_list = np.genfromtxt('MGO_Maine_list.csv', skip_header=1,\n",
    "                               delimiter=',', autostrip=True,\n",
    "                               dtype=[('f0', '<i8'), ('f1', '<U20')])\n",
    "print(MGO_Maine_list)\n",
    "\n",
    "# Another way\n",
    "import csv\n",
    "reader = csv.reader('MGO_Maine.csv', delimiter=',')\n",
    "for line in reader:\n",
    "    print ', '.join(line)"
   ]
  },
  {
   "cell_type": "code",
   "execution_count": null,
   "metadata": {
    "collapsed": true
   },
   "outputs": [],
   "source": []
  }
 ],
 "metadata": {
  "kernelspec": {
   "display_name": "Python 3",
   "language": "python",
   "name": "python3"
  },
  "language_info": {
   "codemirror_mode": {
    "name": "ipython",
    "version": 3
   },
   "file_extension": ".py",
   "mimetype": "text/x-python",
   "name": "python",
   "nbconvert_exporter": "python",
   "pygments_lexer": "ipython3",
   "version": "3.6.3"
  }
 },
 "nbformat": 4,
 "nbformat_minor": 2
}

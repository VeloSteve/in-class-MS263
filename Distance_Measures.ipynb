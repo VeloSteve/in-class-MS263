{
 "cells": [
  {
   "cell_type": "code",
   "execution_count": 1,
   "metadata": {
    "collapsed": true
   },
   "outputs": [],
   "source": [
    "import numpy as np\n",
    "from scipy.spatial import distance"
   ]
  },
  {
   "cell_type": "code",
   "execution_count": 2,
   "metadata": {
    "collapsed": true
   },
   "outputs": [],
   "source": [
    "# repeat what we did in class by hand:\n",
    "u = [415, 200, 310, 411]\n",
    "v = [615, 100, 330, 203]\n",
    "q = [614, 101, 331, 202]"
   ]
  },
  {
   "cell_type": "code",
   "execution_count": 4,
   "metadata": {},
   "outputs": [
    {
     "name": "stdout",
     "output_type": "stream",
     "text": [
      "[[415 200 310 411]\n",
      " [615 100 330 203]\n",
      " [614 101 331 202]]\n"
     ]
    }
   ],
   "source": [
    "data = np.array([u, v, q])\n",
    "print(data)"
   ]
  },
  {
   "cell_type": "code",
   "execution_count": 9,
   "metadata": {},
   "outputs": [
    {
     "name": "stdout",
     "output_type": "stream",
     "text": [
      "[[415 200 310 411]\n",
      " [615 100 330 203]\n",
      " [614 101 331 202]]\n"
     ]
    },
    {
     "data": {
      "text/plain": [
       "array([[415, 615, 614],\n",
       "       [200, 100, 101],\n",
       "       [310, 330, 331],\n",
       "       [411, 203, 202]])"
      ]
     },
     "execution_count": 9,
     "metadata": {},
     "output_type": "execute_result"
    }
   ],
   "source": [
    "data.T\n",
    "print(data)\n",
    "# outputs transformed version, doesn't change data\n",
    "data.T"
   ]
  },
  {
   "cell_type": "code",
   "execution_count": 12,
   "metadata": {},
   "outputs": [
    {
     "data": {
      "text/plain": [
       "array([[ 0.        ,  0.20433437,  0.20433437],\n",
       "       [ 0.20433437,  0.        ,  0.00160256],\n",
       "       [ 0.20433437,  0.00160256,  0.        ]])"
      ]
     },
     "execution_count": 12,
     "metadata": {},
     "output_type": "execute_result"
    }
   ],
   "source": [
    "dist=distance.pdist(data, 'braycurtis')\n",
    "distmatrix = distance.squareform(dist)\n",
    "distmatrix"
   ]
  },
  {
   "cell_type": "code",
   "execution_count": null,
   "metadata": {
    "collapsed": true
   },
   "outputs": [],
   "source": []
  }
 ],
 "metadata": {
  "kernelspec": {
   "display_name": "Python 3",
   "language": "python",
   "name": "python3"
  },
  "language_info": {
   "codemirror_mode": {
    "name": "ipython",
    "version": 3
   },
   "file_extension": ".py",
   "mimetype": "text/x-python",
   "name": "python",
   "nbconvert_exporter": "python",
   "pygments_lexer": "ipython3",
   "version": "3.6.3"
  }
 },
 "nbformat": 4,
 "nbformat_minor": 2
}

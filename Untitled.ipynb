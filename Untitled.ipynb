{
 "cells": [
  {
   "cell_type": "code",
   "execution_count": null,
   "metadata": {
    "collapsed": true
   },
   "outputs": [],
   "source": [
    "def day_of_year(year, month, day):\n",
    "    '''Input year, month, day as integers.  The output is the day of the year.'''\n",
    "    days = [31, 28, 31, 30, 31, 30, 31, 31, 30, 31, 30, 31]\n",
    "    if month < 1 or month > 12:\n",
    "        raise ValueError('Month must be between 1 and 12.')\n",
    "    if day > days[month-1]:\n",
    "        raise ValueError('There are only ' + str(days[month-1]) + ' days in month ' + str(month))\n",
    "    elif day < 1:\n",
    "        raise ValueError('Day must be positive.')\n",
    "    leap = not(year % 4);\n",
    "    # I want to test this before committing...\n",
    "    #  leap = (not(year%4) and (year%100)) or not(year%400)\n",
    "\n",
    "    if leap:\n",
    "        days[1] = 29\n",
    "    previous_months = sum(days[0:month-1])\n",
    "    return previous_months + day\n",
    "\n"
   ]
  }
 ],
 "metadata": {
  "kernelspec": {
   "display_name": "Python 3",
   "language": "python",
   "name": "python3"
  },
  "language_info": {
   "codemirror_mode": {
    "name": "ipython",
    "version": 3
   },
   "file_extension": ".py",
   "mimetype": "text/x-python",
   "name": "python",
   "nbconvert_exporter": "python",
   "pygments_lexer": "ipython3",
   "version": "3.6.3"
  }
 },
 "nbformat": 4,
 "nbformat_minor": 2
}

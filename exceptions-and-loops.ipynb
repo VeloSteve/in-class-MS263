{
 "cells": [
  {
   "cell_type": "code",
   "execution_count": 1,
   "metadata": {
    "collapsed": true
   },
   "outputs": [],
   "source": [
    "# exceptions\n",
    "# an example of conditional execution"
   ]
  },
  {
   "cell_type": "code",
   "execution_count": 5,
   "metadata": {},
   "outputs": [
    {
     "name": "stdout",
     "output_type": "stream",
     "text": [
      "a and b are incompatible.\n",
      "year2018\n"
     ]
    }
   ],
   "source": [
    "a = 'year'\n",
    "b = 2018\n",
    "\n",
    "try:\n",
    "    combined = a + b\n",
    "except:\n",
    "    print('a and b are incompatible.')\n",
    "    combined = str(a) + str(b)\n",
    "    \n",
    "print(combined)\n",
    "        "
   ]
  },
  {
   "cell_type": "code",
   "execution_count": 7,
   "metadata": {},
   "outputs": [
    {
     "name": "stdout",
     "output_type": "stream",
     "text": [
      "1\n",
      "2\n",
      "3\n",
      "4\n",
      "5\n",
      "done with while loop\n"
     ]
    }
   ],
   "source": [
    "# loops\n",
    "# while loop  - indefinite loop - until a certain condition is met\n",
    "#\n",
    "\n",
    "i = 0\n",
    "while i < 5:\n",
    "    i = i + 1\n",
    "    print(i)\n",
    "\n",
    "print('done with while loop')"
   ]
  },
  {
   "cell_type": "code",
   "execution_count": 10,
   "metadata": {},
   "outputs": [
    {
     "name": "stdout",
     "output_type": "stream",
     "text": [
      "Hello Bob\n",
      "Hello Jane\n",
      "Hello Mary\n",
      "done with for loop\n"
     ]
    }
   ],
   "source": [
    "# for loop - repeats a statement for every element of a sequence\n",
    "# sequences - list, array, string (a seq of characters), tuple\n",
    "\n",
    "name_list = ['Bob', 'Jane', 'Mary']\n",
    "for name in name_list:\n",
    "    print('Hello', name)\n",
    "    \n",
    "print('done with for loop')"
   ]
  },
  {
   "cell_type": "code",
   "execution_count": 11,
   "metadata": {},
   "outputs": [
    {
     "data": {
      "text/plain": [
       "array([0, 1, 2, 3, 4])"
      ]
     },
     "execution_count": 11,
     "metadata": {},
     "output_type": "execute_result"
    }
   ],
   "source": [
    "import numpy as np\n",
    "np.arange(5)"
   ]
  },
  {
   "cell_type": "code",
   "execution_count": 12,
   "metadata": {},
   "outputs": [
    {
     "name": "stdout",
     "output_type": "stream",
     "text": [
      "[ 2.   2.5  3.   3.5  4.   4.5]\n"
     ]
    }
   ],
   "source": [
    "print(np.arange(2,5,0.5))"
   ]
  },
  {
   "cell_type": "code",
   "execution_count": 16,
   "metadata": {},
   "outputs": [
    {
     "name": "stdout",
     "output_type": "stream",
     "text": [
      "0\n",
      "\n",
      "1\n",
      "2\n",
      "\n",
      "2\n",
      "4\n",
      "\n",
      "4\n",
      "6\n",
      "\n",
      "8\n",
      "8\n",
      "\n",
      "16\n"
     ]
    }
   ],
   "source": [
    "for i in np.arange(5):\n",
    "    print(i*2)\n",
    "    print()\n",
    "    print(2**i)"
   ]
  },
  {
   "cell_type": "code",
   "execution_count": 18,
   "metadata": {},
   "outputs": [
    {
     "name": "stdout",
     "output_type": "stream",
     "text": [
      "0\n",
      "2\n",
      "4\n",
      "6\n",
      "8\n"
     ]
    }
   ],
   "source": [
    "# without numpy, but less flexible.\n",
    "for i in range(5):\n",
    "    print(i*2)"
   ]
  },
  {
   "cell_type": "code",
   "execution_count": 19,
   "metadata": {},
   "outputs": [
    {
     "name": "stdout",
     "output_type": "stream",
     "text": [
      "0 Bob\n",
      "1 Jane\n",
      "2 Mary\n"
     ]
    }
   ],
   "source": [
    "# Loop and count at the same time\n",
    "for i, name in enumerate(name_list):\n",
    "    print(i, name)"
   ]
  },
  {
   "cell_type": "code",
   "execution_count": 20,
   "metadata": {},
   "outputs": [
    {
     "name": "stdout",
     "output_type": "stream",
     "text": [
      "1\n",
      "4\n",
      "10\n",
      "14\n",
      "21\n"
     ]
    }
   ],
   "source": [
    "# 2/6 handout\n",
    "# Problem 4 (1st one)\n",
    "# Cumulative sum of an array\n",
    "values = [1, 3, 6, 4, 7]\n",
    "cumsum = 0\n",
    "for val in values:\n",
    "    cumsum = cumsum + val\n",
    "    print(cumsum)\n",
    "    "
   ]
  },
  {
   "cell_type": "code",
   "execution_count": 21,
   "metadata": {},
   "outputs": [
    {
     "name": "stdout",
     "output_type": "stream",
     "text": [
      "[  1.   4.  10.  14.  21.]\n"
     ]
    }
   ],
   "source": [
    "# 2/6 handout, 2nd number 4\n",
    "# store cumulative sum in another array.  Use np.append()\n",
    "import numpy as np\n",
    "cumsum = 0\n",
    "cum_array = [];\n",
    "for val in values:\n",
    "    cumsum = cumsum + val\n",
    "    cum_array = np.append(cum_array, cumsum)\n",
    "    \n",
    "print(cum_array)"
   ]
  },
  {
   "cell_type": "code",
   "execution_count": 28,
   "metadata": {},
   "outputs": [
    {
     "name": "stdout",
     "output_type": "stream",
     "text": [
      "[ 1  1  2  3  5  8 13 21]\n"
     ]
    }
   ],
   "source": [
    "# 2/6 handout, 3rd number 4\n",
    "# Function returning an array containing the first n Fibonnaci numbers\n",
    "def fib(n):\n",
    "    ''' Returns the first n numbers of the Fibonacci sequence'''\n",
    "    if n == 1:\n",
    "        return [1]\n",
    "    elif n == 2: \n",
    "        return [1, 1]\n",
    "    \n",
    "    vals = [1, 1]\n",
    "    for i in np.arange(2, n):\n",
    "        vals = np.append(vals, vals[i-1] + vals[i-2])\n",
    "        \n",
    "    return vals\n",
    "\n",
    "davinci_code = fib(8)\n",
    "print(davinci_code)"
   ]
  },
  {
   "cell_type": "code",
   "execution_count": 44,
   "metadata": {},
   "outputs": [
    {
     "ename": "SyntaxError",
     "evalue": "invalid syntax (<ipython-input-44-80e2dfeb9104>, line 15)",
     "output_type": "error",
     "traceback": [
      "\u001b[0;36m  File \u001b[0;32m\"<ipython-input-44-80e2dfeb9104>\"\u001b[0;36m, line \u001b[0;32m15\u001b[0m\n\u001b[0;31m    print ', '.join(line)\u001b[0m\n\u001b[0m             ^\u001b[0m\n\u001b[0;31mSyntaxError\u001b[0m\u001b[0;31m:\u001b[0m invalid syntax\n"
     ]
    }
   ],
   "source": [
    "# read in csv data\n",
    "MGO_Maine = np.genfromtxt('MGO_Maine.csv', skip_header=1, delimiter=',')\n",
    "print(MGO_Maine)\n",
    "\n",
    "# Now the list form\n",
    "MGO_Maine_list = np.genfromtxt('MGO_Maine_list.csv', skip_header=1,\n",
    "                               delimiter=',', autostrip=True,\n",
    "                               dtype=[('f0', '<i8'), ('f1', '<U20')])\n",
    "print(MGO_Maine_list)\n",
    "\n",
    "# Another way\n",
    "import csv\n",
    "reader = csv.reader('MGO_Maine.csv', delimiter=',')\n",
    "for line in reader:\n",
    "    print ', '.join(line)\n"
   ]
  },
  {
   "cell_type": "code",
   "execution_count": null,
   "metadata": {
    "collapsed": true
   },
   "outputs": [],
   "source": []
  }
 ],
 "metadata": {
  "kernelspec": {
   "display_name": "Python 3",
   "language": "python",
   "name": "python3"
  },
  "language_info": {
   "codemirror_mode": {
    "name": "ipython",
    "version": 3
   },
   "file_extension": ".py",
   "mimetype": "text/x-python",
   "name": "python",
   "nbconvert_exporter": "python",
   "pygments_lexer": "ipython3",
   "version": "3.6.3"
  }
 },
 "nbformat": 4,
 "nbformat_minor": 2
}

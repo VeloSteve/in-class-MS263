{
 "cells": [
  {
   "cell_type": "code",
   "execution_count": 2,
   "metadata": {},
   "outputs": [
    {
     "data": {
      "text/plain": [
       "Ttest_1sampResult(statistic=1.2649110640673726, pvalue=0.29522893659952454)"
      ]
     },
     "execution_count": 2,
     "metadata": {},
     "output_type": "execute_result"
    }
   ],
   "source": [
    "from scipy import stats\n",
    "values = [19.8, 20.1, 20.5, 20.4]\n",
    "# Student's t-test\n",
    "stats.ttest_1samp(values, 20)\n",
    "# Welch's t-test\n",
    "stats.ttest_ind(x, y, equal_var=False)\n",
    "# Paired t-test\n"
   ]
  },
  {
   "cell_type": "code",
   "execution_count": 3,
   "metadata": {},
   "outputs": [
    {
     "ename": "NameError",
     "evalue": "name 'x' is not defined",
     "output_type": "error",
     "traceback": [
      "\u001b[0;31m---------------------------------------------------------------------------\u001b[0m",
      "\u001b[0;31mNameError\u001b[0m                                 Traceback (most recent call last)",
      "\u001b[0;32m<ipython-input-3-69520bdeb70e>\u001b[0m in \u001b[0;36m<module>\u001b[0;34m()\u001b[0m\n\u001b[1;32m      1\u001b[0m \u001b[0;31m#For student's 2-sample test'\u001b[0m\u001b[0;34m\u001b[0m\u001b[0;34m\u001b[0m\u001b[0m\n\u001b[0;32m----> 2\u001b[0;31m \u001b[0mstats\u001b[0m\u001b[0;34m.\u001b[0m\u001b[0mttest_ind\u001b[0m\u001b[0;34m(\u001b[0m\u001b[0mx\u001b[0m\u001b[0;34m,\u001b[0m \u001b[0my\u001b[0m\u001b[0;34m)\u001b[0m\u001b[0;34m\u001b[0m\u001b[0m\n\u001b[0m\u001b[1;32m      3\u001b[0m \u001b[0;31m# plots\u001b[0m\u001b[0;34m\u001b[0m\u001b[0;34m\u001b[0m\u001b[0m\n\u001b[1;32m      4\u001b[0m \u001b[0;32mimport\u001b[0m \u001b[0mmatplotlib\u001b[0m\u001b[0;34m.\u001b[0m\u001b[0mpyplot\u001b[0m \u001b[0;32mas\u001b[0m \u001b[0mplt\u001b[0m\u001b[0;34m\u001b[0m\u001b[0m\n\u001b[1;32m      5\u001b[0m \u001b[0;31m# width shows # of data points\u001b[0m\u001b[0;34m\u001b[0m\u001b[0;34m\u001b[0m\u001b[0m\n",
      "\u001b[0;31mNameError\u001b[0m: name 'x' is not defined"
     ]
    }
   ],
   "source": [
    "#For student's 2-sample test'\n",
    "stats.ttest_ind(x, y)\n",
    "# plots\n",
    "import matplotlib.pyplot as plt\n",
    "# width shows # of data points\n",
    "plt.violinplot(all_data)\n",
    "# or\n",
    "plt.boxplot(all_data)"
   ]
  },
  {
   "cell_type": "code",
   "execution_count": 5,
   "metadata": {},
   "outputs": [
    {
     "data": {
      "text/plain": [
       "51.009448579637365"
      ]
     },
     "execution_count": 5,
     "metadata": {},
     "output_type": "execute_result"
    }
   ],
   "source": [
    "from statsmodels.stats import power\n",
    "nobs = power.tt_solve_power(power=0.8, alpha=0.05, effect_size=0.4)\n",
    "nobs"
   ]
  },
  {
   "cell_type": "code",
   "execution_count": 16,
   "metadata": {},
   "outputs": [
    {
     "name": "stdout",
     "output_type": "stream",
     "text": [
      "10.0\n",
      "3.3333333333333335\n",
      "F= 10.799999999999999\n",
      "Critical F is 4.26\n",
      "Reject the null - theres a difference\n"
     ]
    }
   ],
   "source": [
    "# in-class Mica example (has 3 data sets, we did one)\n",
    "import numpy as np\n",
    "j=[7,8,10,11]\n",
    "mean1 = np.mean(j)\n",
    "deltas1 = j - mean1\n",
    "dsq1 = deltas1**2\n",
    "sumsq1 = sum(dsq1)\n",
    "print(sumsq1)\n",
    "# each of the 3 datasets gives 10, so \n",
    "SSW=30\n",
    "MSW = SSW/(12-3)\n",
    "print(MSW)\n",
    "MSA = 36 # from other group\n",
    "F = MSA/MSW\n",
    "print('F=',F)\n",
    "# Critical F from table is 4.26\n",
    "print('Critical F is 4.26')\n",
    "print('Reject the null - there''s a difference')"
   ]
  },
  {
   "cell_type": "code",
   "execution_count": null,
   "metadata": {
    "collapsed": true
   },
   "outputs": [],
   "source": [
    "# Post-hoc for above.\n",
    "# paired t-test between groups is obvious, but likely to give false differences\n",
    "# by chance when number of combinations is large. (biased due to multiple comparisons)\n",
    "# Actual approaches use adjusted dof.\n",
    "# Most pop: Fisher's least sig.diff. (LSD) and Tukey's honest sig. dif. (HSD)\n"
   ]
  }
 ],
 "metadata": {
  "kernelspec": {
   "display_name": "Python 3",
   "language": "python",
   "name": "python3"
  },
  "language_info": {
   "codemirror_mode": {
    "name": "ipython",
    "version": 3
   },
   "file_extension": ".py",
   "mimetype": "text/x-python",
   "name": "python",
   "nbconvert_exporter": "python",
   "pygments_lexer": "ipython3",
   "version": "3.6.3"
  }
 },
 "nbformat": 4,
 "nbformat_minor": 2
}
